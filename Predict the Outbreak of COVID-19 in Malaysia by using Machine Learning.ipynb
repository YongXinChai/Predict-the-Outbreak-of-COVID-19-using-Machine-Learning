{
 "cells": [
  {
   "cell_type": "markdown",
   "metadata": {},
   "source": [
    "Name: Chai Yong Xin\n",
    "<br>\n",
    "Matrix No: 17219908\n",
    "<br>\n",
    "\n",
    "## Title: Predict the Outbreak of COVID-19 in Malaysia by using Machine Learning\n",
    "\n",
    "## Assignment Field: Regression\n",
    "\n",
    "## Data source (URL of dataset website): https://data.world/wnarifin/covid-19-my\n",
    "\n",
    "## Introduction\n",
    "The novel Coronavirus disease (COVID-19) was first reported on 31 December 2019 in the Wuhan, Hubei Province, China. It started spreading rapidly across the world, and the World Health Organization (WHO) has declared the coronavirus outbreak a pandemic. Malaysia’s government has implemented a lot of policies such as social distancing, wearing a face mask in the public area, and movement control order to slow down and block the chain of the coronavirus spreading. \n",
    "\n",
    "Important Timeline\n",
    "\n",
    "25/01/2020\n",
    "<br>\n",
    "Malaysia's Health Minister, confirmed the first case of COVID-19\n",
    "<br>\n",
    "Ministry of Health (MOH) advises not to travel to China if there is no need.\n",
    "\n",
    "Movement Control Order (MCO)\n",
    "<br>\n",
    "First phase  : 18 March 2020 to 31 March 2020\n",
    "<br>\n",
    "Second phase : 1 April 2020 to 14 April 2020\n",
    "<br>\n",
    "Third phase  : 15 April 2020 to 28 April 2020\n",
    "<br>\n",
    "Forth phase  : 29 April 2020 to 12 May 2020\n",
    "\n",
    "Conditional Movement Control Order (CMCO)\n",
    "<br>\n",
    "First phase : 4 May 2020 to 9 June 2020\n",
    "\n",
    "Recovery Movement Control Order (RMCO)\n",
    "<br>\n",
    "First phase : 10 June 2020\n",
    "\n",
    "Enhanced Movement Control Order (EMCO)\n",
    "<br>\n",
    "Sabah from 20th October until 3rd November\n",
    "\n",
    "Semi Enhanced Movement Control Order (SEMCO)\n",
    "\n",
    "Targeted Enhanced Movement Control Order (TEMCO) \n",
    "<br>\n",
    "Alor Setar Prison from 6th October to 1st November\n",
    "<br>\n",
    "Sabah from 29th September until 25th October \n",
    "\n",
    "## Objectives:\n",
    "1. To investigate the effectiveness of government policies to the COVID-19.\n",
    "2. To predict the growth and trend of COVID-19.\n",
    "\n",
    "GitHub: https://github.com/YongXinChai/Predict-the-Outbreak-of-COVID-19-using-Machine-Learning"
   ]
  },
  {
   "cell_type": "markdown",
   "metadata": {},
   "source": [
    "### Import Library"
   ]
  },
  {
   "cell_type": "code",
   "execution_count": 1,
   "metadata": {},
   "outputs": [],
   "source": [
    "import matplotlib # we'll only use this to determine the matplotlib version number\n",
    "import matplotlib.pyplot as plt  # the graphing library\n",
    "import numpy as np # scientific computing library\n",
    "import pandas as pd # the data structure and analysis library\n",
    "from pandas import DataFrame, read_csv, Series # specific functions from pandas\n",
    "import seaborn as sns # Makes graphs look pretty\n",
    "import sys # we'll only use this to determine the python version number\n",
    "from sklearn.model_selection import train_test_split # Split the dataset to training dataset and testing dataset\n",
    "from sklearn import metrics # use for calculate the MAE, MSE, and RMSE\n",
    "import seaborn as seabornInstance # the graphing library\n",
    "from sklearn.svm import SVR\n",
    "import datetime\n",
    "from sklearn.metrics import mean_absolute_error, mean_squared_error\n",
    "\n",
    "# Enable inline plotting.  The % is an iPython thing, and is not part of the Python language.\n",
    "# In this case we're just telling the plotting library to draw things on\n",
    "# the notebook, instead of on a separate window.\n",
    "%matplotlib inline"
   ]
  },
  {
   "cell_type": "markdown",
   "metadata": {},
   "source": [
    "### Import Covid-19 Data"
   ]
  },
  {
   "cell_type": "code",
   "execution_count": 2,
   "metadata": {},
   "outputs": [
    {
     "data": {
      "text/html": [
       "<div>\n",
       "<style scoped>\n",
       "    .dataframe tbody tr th:only-of-type {\n",
       "        vertical-align: middle;\n",
       "    }\n",
       "\n",
       "    .dataframe tbody tr th {\n",
       "        vertical-align: top;\n",
       "    }\n",
       "\n",
       "    .dataframe thead th {\n",
       "        text-align: right;\n",
       "    }\n",
       "</style>\n",
       "<table border=\"1\" class=\"dataframe\">\n",
       "  <thead>\n",
       "    <tr style=\"text-align: right;\">\n",
       "      <th></th>\n",
       "      <th>date</th>\n",
       "      <th>location</th>\n",
       "      <th>new_cases</th>\n",
       "      <th>new_deaths</th>\n",
       "      <th>total_cases</th>\n",
       "      <th>total_deaths</th>\n",
       "      <th>recover</th>\n",
       "      <th>total_recover</th>\n",
       "      <th>icu</th>\n",
       "      <th>support</th>\n",
       "      <th>...</th>\n",
       "      <th>tabligh</th>\n",
       "      <th>days_tabligh</th>\n",
       "      <th>mco</th>\n",
       "      <th>days_mco</th>\n",
       "      <th>renggam</th>\n",
       "      <th>days_renggam</th>\n",
       "      <th>cmco</th>\n",
       "      <th>days_cmco</th>\n",
       "      <th>rmco</th>\n",
       "      <th>days_rmco</th>\n",
       "    </tr>\n",
       "  </thead>\n",
       "  <tbody>\n",
       "    <tr>\n",
       "      <th>0</th>\n",
       "      <td>2019-12-31</td>\n",
       "      <td>Malaysia</td>\n",
       "      <td>0</td>\n",
       "      <td>0</td>\n",
       "      <td>0</td>\n",
       "      <td>0</td>\n",
       "      <td>0</td>\n",
       "      <td>0</td>\n",
       "      <td>0</td>\n",
       "      <td>0</td>\n",
       "      <td>...</td>\n",
       "      <td>0</td>\n",
       "      <td>0</td>\n",
       "      <td>0</td>\n",
       "      <td>0</td>\n",
       "      <td>0</td>\n",
       "      <td>0</td>\n",
       "      <td>0</td>\n",
       "      <td>0</td>\n",
       "      <td>0</td>\n",
       "      <td>0</td>\n",
       "    </tr>\n",
       "    <tr>\n",
       "      <th>1</th>\n",
       "      <td>2020-01-01</td>\n",
       "      <td>Malaysia</td>\n",
       "      <td>0</td>\n",
       "      <td>0</td>\n",
       "      <td>0</td>\n",
       "      <td>0</td>\n",
       "      <td>0</td>\n",
       "      <td>0</td>\n",
       "      <td>0</td>\n",
       "      <td>0</td>\n",
       "      <td>...</td>\n",
       "      <td>0</td>\n",
       "      <td>0</td>\n",
       "      <td>0</td>\n",
       "      <td>0</td>\n",
       "      <td>0</td>\n",
       "      <td>0</td>\n",
       "      <td>0</td>\n",
       "      <td>0</td>\n",
       "      <td>0</td>\n",
       "      <td>0</td>\n",
       "    </tr>\n",
       "    <tr>\n",
       "      <th>2</th>\n",
       "      <td>2020-01-02</td>\n",
       "      <td>Malaysia</td>\n",
       "      <td>0</td>\n",
       "      <td>0</td>\n",
       "      <td>0</td>\n",
       "      <td>0</td>\n",
       "      <td>0</td>\n",
       "      <td>0</td>\n",
       "      <td>0</td>\n",
       "      <td>0</td>\n",
       "      <td>...</td>\n",
       "      <td>0</td>\n",
       "      <td>0</td>\n",
       "      <td>0</td>\n",
       "      <td>0</td>\n",
       "      <td>0</td>\n",
       "      <td>0</td>\n",
       "      <td>0</td>\n",
       "      <td>0</td>\n",
       "      <td>0</td>\n",
       "      <td>0</td>\n",
       "    </tr>\n",
       "    <tr>\n",
       "      <th>3</th>\n",
       "      <td>2020-01-03</td>\n",
       "      <td>Malaysia</td>\n",
       "      <td>0</td>\n",
       "      <td>0</td>\n",
       "      <td>0</td>\n",
       "      <td>0</td>\n",
       "      <td>0</td>\n",
       "      <td>0</td>\n",
       "      <td>0</td>\n",
       "      <td>0</td>\n",
       "      <td>...</td>\n",
       "      <td>0</td>\n",
       "      <td>0</td>\n",
       "      <td>0</td>\n",
       "      <td>0</td>\n",
       "      <td>0</td>\n",
       "      <td>0</td>\n",
       "      <td>0</td>\n",
       "      <td>0</td>\n",
       "      <td>0</td>\n",
       "      <td>0</td>\n",
       "    </tr>\n",
       "    <tr>\n",
       "      <th>4</th>\n",
       "      <td>2020-01-04</td>\n",
       "      <td>Malaysia</td>\n",
       "      <td>0</td>\n",
       "      <td>0</td>\n",
       "      <td>0</td>\n",
       "      <td>0</td>\n",
       "      <td>0</td>\n",
       "      <td>0</td>\n",
       "      <td>0</td>\n",
       "      <td>0</td>\n",
       "      <td>...</td>\n",
       "      <td>0</td>\n",
       "      <td>0</td>\n",
       "      <td>0</td>\n",
       "      <td>0</td>\n",
       "      <td>0</td>\n",
       "      <td>0</td>\n",
       "      <td>0</td>\n",
       "      <td>0</td>\n",
       "      <td>0</td>\n",
       "      <td>0</td>\n",
       "    </tr>\n",
       "    <tr>\n",
       "      <th>...</th>\n",
       "      <td>...</td>\n",
       "      <td>...</td>\n",
       "      <td>...</td>\n",
       "      <td>...</td>\n",
       "      <td>...</td>\n",
       "      <td>...</td>\n",
       "      <td>...</td>\n",
       "      <td>...</td>\n",
       "      <td>...</td>\n",
       "      <td>...</td>\n",
       "      <td>...</td>\n",
       "      <td>...</td>\n",
       "      <td>...</td>\n",
       "      <td>...</td>\n",
       "      <td>...</td>\n",
       "      <td>...</td>\n",
       "      <td>...</td>\n",
       "      <td>...</td>\n",
       "      <td>...</td>\n",
       "      <td>...</td>\n",
       "      <td>...</td>\n",
       "    </tr>\n",
       "    <tr>\n",
       "      <th>358</th>\n",
       "      <td>2020-12-23</td>\n",
       "      <td>Malaysia</td>\n",
       "      <td>1348</td>\n",
       "      <td>5</td>\n",
       "      <td>98737</td>\n",
       "      <td>444</td>\n",
       "      <td>710</td>\n",
       "      <td>80014</td>\n",
       "      <td>102</td>\n",
       "      <td>44</td>\n",
       "      <td>...</td>\n",
       "      <td>1</td>\n",
       "      <td>300</td>\n",
       "      <td>1</td>\n",
       "      <td>281</td>\n",
       "      <td>1</td>\n",
       "      <td>284</td>\n",
       "      <td>1</td>\n",
       "      <td>234</td>\n",
       "      <td>1</td>\n",
       "      <td>197</td>\n",
       "    </tr>\n",
       "    <tr>\n",
       "      <th>359</th>\n",
       "      <td>2020-12-24</td>\n",
       "      <td>Malaysia</td>\n",
       "      <td>1581</td>\n",
       "      <td>2</td>\n",
       "      <td>100318</td>\n",
       "      <td>446</td>\n",
       "      <td>1085</td>\n",
       "      <td>81099</td>\n",
       "      <td>102</td>\n",
       "      <td>45</td>\n",
       "      <td>...</td>\n",
       "      <td>1</td>\n",
       "      <td>301</td>\n",
       "      <td>1</td>\n",
       "      <td>282</td>\n",
       "      <td>1</td>\n",
       "      <td>285</td>\n",
       "      <td>1</td>\n",
       "      <td>235</td>\n",
       "      <td>1</td>\n",
       "      <td>198</td>\n",
       "    </tr>\n",
       "    <tr>\n",
       "      <th>360</th>\n",
       "      <td>2020-12-25</td>\n",
       "      <td>Malaysia</td>\n",
       "      <td>1247</td>\n",
       "      <td>3</td>\n",
       "      <td>101565</td>\n",
       "      <td>449</td>\n",
       "      <td>1441</td>\n",
       "      <td>82540</td>\n",
       "      <td>108</td>\n",
       "      <td>47</td>\n",
       "      <td>...</td>\n",
       "      <td>1</td>\n",
       "      <td>302</td>\n",
       "      <td>1</td>\n",
       "      <td>283</td>\n",
       "      <td>1</td>\n",
       "      <td>286</td>\n",
       "      <td>1</td>\n",
       "      <td>236</td>\n",
       "      <td>1</td>\n",
       "      <td>199</td>\n",
       "    </tr>\n",
       "    <tr>\n",
       "      <th>361</th>\n",
       "      <td>2020-12-26</td>\n",
       "      <td>Malaysia</td>\n",
       "      <td>2335</td>\n",
       "      <td>2</td>\n",
       "      <td>103900</td>\n",
       "      <td>451</td>\n",
       "      <td>874</td>\n",
       "      <td>83414</td>\n",
       "      <td>108</td>\n",
       "      <td>50</td>\n",
       "      <td>...</td>\n",
       "      <td>1</td>\n",
       "      <td>303</td>\n",
       "      <td>1</td>\n",
       "      <td>284</td>\n",
       "      <td>1</td>\n",
       "      <td>287</td>\n",
       "      <td>1</td>\n",
       "      <td>237</td>\n",
       "      <td>1</td>\n",
       "      <td>200</td>\n",
       "    </tr>\n",
       "    <tr>\n",
       "      <th>362</th>\n",
       "      <td>2020-12-27</td>\n",
       "      <td>Malaysia</td>\n",
       "      <td>1196</td>\n",
       "      <td>1</td>\n",
       "      <td>105096</td>\n",
       "      <td>452</td>\n",
       "      <td>997</td>\n",
       "      <td>84411</td>\n",
       "      <td>111</td>\n",
       "      <td>50</td>\n",
       "      <td>...</td>\n",
       "      <td>1</td>\n",
       "      <td>304</td>\n",
       "      <td>1</td>\n",
       "      <td>285</td>\n",
       "      <td>1</td>\n",
       "      <td>288</td>\n",
       "      <td>1</td>\n",
       "      <td>238</td>\n",
       "      <td>1</td>\n",
       "      <td>201</td>\n",
       "    </tr>\n",
       "  </tbody>\n",
       "</table>\n",
       "<p>363 rows × 29 columns</p>\n",
       "</div>"
      ],
      "text/plain": [
       "           date  location  new_cases  new_deaths  total_cases  total_deaths  \\\n",
       "0    2019-12-31  Malaysia          0           0            0             0   \n",
       "1    2020-01-01  Malaysia          0           0            0             0   \n",
       "2    2020-01-02  Malaysia          0           0            0             0   \n",
       "3    2020-01-03  Malaysia          0           0            0             0   \n",
       "4    2020-01-04  Malaysia          0           0            0             0   \n",
       "..          ...       ...        ...         ...          ...           ...   \n",
       "358  2020-12-23  Malaysia       1348           5        98737           444   \n",
       "359  2020-12-24  Malaysia       1581           2       100318           446   \n",
       "360  2020-12-25  Malaysia       1247           3       101565           449   \n",
       "361  2020-12-26  Malaysia       2335           2       103900           451   \n",
       "362  2020-12-27  Malaysia       1196           1       105096           452   \n",
       "\n",
       "     recover  total_recover  icu  support  ...  tabligh  days_tabligh  mco  \\\n",
       "0          0              0    0        0  ...        0             0    0   \n",
       "1          0              0    0        0  ...        0             0    0   \n",
       "2          0              0    0        0  ...        0             0    0   \n",
       "3          0              0    0        0  ...        0             0    0   \n",
       "4          0              0    0        0  ...        0             0    0   \n",
       "..       ...            ...  ...      ...  ...      ...           ...  ...   \n",
       "358      710          80014  102       44  ...        1           300    1   \n",
       "359     1085          81099  102       45  ...        1           301    1   \n",
       "360     1441          82540  108       47  ...        1           302    1   \n",
       "361      874          83414  108       50  ...        1           303    1   \n",
       "362      997          84411  111       50  ...        1           304    1   \n",
       "\n",
       "     days_mco  renggam  days_renggam  cmco  days_cmco  rmco  days_rmco  \n",
       "0           0        0             0     0          0     0          0  \n",
       "1           0        0             0     0          0     0          0  \n",
       "2           0        0             0     0          0     0          0  \n",
       "3           0        0             0     0          0     0          0  \n",
       "4           0        0             0     0          0     0          0  \n",
       "..        ...      ...           ...   ...        ...   ...        ...  \n",
       "358       281        1           284     1        234     1        197  \n",
       "359       282        1           285     1        235     1        198  \n",
       "360       283        1           286     1        236     1        199  \n",
       "361       284        1           287     1        237     1        200  \n",
       "362       285        1           288     1        238     1        201  \n",
       "\n",
       "[363 rows x 29 columns]"
      ]
     },
     "execution_count": 2,
     "metadata": {},
     "output_type": "execute_result"
    }
   ],
   "source": [
    "# Import full dataset\n",
    "df = pd.read_csv(\"Datasets\\covid-19_my_full.csv\")\n",
    "df"
   ]
  },
  {
   "cell_type": "markdown",
   "metadata": {},
   "source": [
    "### Data Preprocessing"
   ]
  },
  {
   "cell_type": "code",
   "execution_count": 3,
   "metadata": {},
   "outputs": [
    {
     "data": {
      "text/plain": [
       "Index(['date', 'location', 'new_cases', 'new_deaths', 'total_cases',\n",
       "       'total_deaths', 'recover', 'total_recover', 'icu', 'support',\n",
       "       'imported_cases', 'china', 'days_china', 'first', 'days_first', 'local',\n",
       "       'days_local', 'uda', 'days_uda', 'tabligh', 'days_tabligh', 'mco',\n",
       "       'days_mco', 'renggam', 'days_renggam', 'cmco', 'days_cmco', 'rmco',\n",
       "       'days_rmco'],\n",
       "      dtype='object')"
      ]
     },
     "execution_count": 3,
     "metadata": {},
     "output_type": "execute_result"
    }
   ],
   "source": [
    "# Populate all columns\n",
    "df.columns"
   ]
  },
  {
   "cell_type": "code",
   "execution_count": 4,
   "metadata": {},
   "outputs": [
    {
     "data": {
      "text/plain": [
       "date              0\n",
       "location          0\n",
       "new_cases         0\n",
       "new_deaths        0\n",
       "total_cases       0\n",
       "total_deaths      0\n",
       "recover           0\n",
       "total_recover     0\n",
       "icu               0\n",
       "support           0\n",
       "imported_cases    0\n",
       "china             0\n",
       "days_china        0\n",
       "first             0\n",
       "days_first        0\n",
       "local             0\n",
       "days_local        0\n",
       "uda               0\n",
       "days_uda          0\n",
       "tabligh           0\n",
       "days_tabligh      0\n",
       "mco               0\n",
       "days_mco          0\n",
       "renggam           0\n",
       "days_renggam      0\n",
       "cmco              0\n",
       "days_cmco         0\n",
       "rmco              0\n",
       "days_rmco         0\n",
       "dtype: int64"
      ]
     },
     "execution_count": 4,
     "metadata": {},
     "output_type": "execute_result"
    }
   ],
   "source": [
    "# Check the null value in each column\n",
    "df.isnull().sum()"
   ]
  },
  {
   "cell_type": "code",
   "execution_count": 5,
   "metadata": {},
   "outputs": [
    {
     "data": {
      "text/plain": [
       "date              object\n",
       "location          object\n",
       "new_cases          int64\n",
       "new_deaths         int64\n",
       "total_cases        int64\n",
       "total_deaths       int64\n",
       "recover            int64\n",
       "total_recover      int64\n",
       "icu                int64\n",
       "support            int64\n",
       "imported_cases     int64\n",
       "china              int64\n",
       "days_china         int64\n",
       "first              int64\n",
       "days_first         int64\n",
       "local              int64\n",
       "days_local         int64\n",
       "uda                int64\n",
       "days_uda           int64\n",
       "tabligh            int64\n",
       "days_tabligh       int64\n",
       "mco                int64\n",
       "days_mco           int64\n",
       "renggam            int64\n",
       "days_renggam       int64\n",
       "cmco               int64\n",
       "days_cmco          int64\n",
       "rmco               int64\n",
       "days_rmco          int64\n",
       "dtype: object"
      ]
     },
     "execution_count": 5,
     "metadata": {},
     "output_type": "execute_result"
    }
   ],
   "source": [
    "# Data Type\n",
    "df.dtypes"
   ]
  },
  {
   "cell_type": "code",
   "execution_count": 6,
   "metadata": {},
   "outputs": [
    {
     "data": {
      "text/plain": [
       "date              datetime64[ns]\n",
       "location                  object\n",
       "new_cases                  int64\n",
       "new_deaths                 int64\n",
       "total_cases                int64\n",
       "total_deaths               int64\n",
       "recover                    int64\n",
       "total_recover              int64\n",
       "icu                        int64\n",
       "support                    int64\n",
       "imported_cases             int64\n",
       "china                      int64\n",
       "days_china                 int64\n",
       "first                      int64\n",
       "days_first                 int64\n",
       "local                      int64\n",
       "days_local                 int64\n",
       "uda                        int64\n",
       "days_uda                   int64\n",
       "tabligh                    int64\n",
       "days_tabligh               int64\n",
       "mco                        int64\n",
       "days_mco                   int64\n",
       "renggam                    int64\n",
       "days_renggam               int64\n",
       "cmco                       int64\n",
       "days_cmco                  int64\n",
       "rmco                       int64\n",
       "days_rmco                  int64\n",
       "dtype: object"
      ]
     },
     "execution_count": 6,
     "metadata": {},
     "output_type": "execute_result"
    }
   ],
   "source": [
    "# Convert column:'date' to datetime format for indexing purpose during plotting\n",
    "df['date'] = pd.to_datetime(df['date'])\n",
    "df.dtypes"
   ]
  },
  {
   "cell_type": "code",
   "execution_count": 7,
   "metadata": {},
   "outputs": [
    {
     "data": {
      "image/png": "[encoded data removed]",
      "text/plain": [
       "<Figure size 1440x720 with 1 Axes>"
      ]
     },
     "metadata": {
      "needs_background": "light"
     },
     "output_type": "display_data"
    }
   ],
   "source": [
    "# Visualize the new cases for Malaysia by date\n",
    "plt.figure(figsize=(20, 10))\n",
    "plt.bar(df['date'],df['new_cases'])\n",
    "\n",
    "label_list = [(pd.to_datetime(\"2020-03-18\"), 'MCO', 'r'),\n",
    "              (pd.to_datetime(\"2020-05-04\"), 'CMCO', 'r'),\n",
    "              (pd.to_datetime(\"2020-06-10\"), 'RMCO', 'r'),\n",
    "              (pd.to_datetime(\"2020-09-29\"), 'TEMCO\\nSabah', 'r')]\n",
    "\n",
    "label_list2 = [(pd.to_datetime(\"2020-10-06\"), 'TEMCO\\nAlor_Setar_Prison', 'purple')]\n",
    "\n",
    "ax = plt.gca()\n",
    "\n",
    "for date_point, label, clr in label_list :\n",
    "    plt.axvline(x=date_point, color=clr)\n",
    "    plt.text(date_point, ax.get_ylim()[1]-500, label,\n",
    "             horizontalalignment='center',\n",
    "             verticalalignment='center',\n",
    "             color=clr,\n",
    "             bbox=dict(facecolor='white', alpha=0.9))\n",
    "    \n",
    "for date_point, label, clr in label_list2 :\n",
    "    plt.axvline(x=date_point, color=clr)\n",
    "    plt.text(date_point, ax.get_ylim()[1]-800, label,\n",
    "             horizontalalignment='center',\n",
    "             verticalalignment='center',\n",
    "             color=clr,\n",
    "             bbox=dict(facecolor='white', alpha=0.9))"
   ]
  },
  {
   "cell_type": "code",
   "execution_count": 8,
   "metadata": {
    "scrolled": true
   },
   "outputs": [
    {
     "data": {
      "text/html": [
       "<div>\n",
       "<style scoped>\n",
       "    .dataframe tbody tr th:only-of-type {\n",
       "        vertical-align: middle;\n",
       "    }\n",
       "\n",
       "    .dataframe tbody tr th {\n",
       "        vertical-align: top;\n",
       "    }\n",
       "\n",
       "    .dataframe thead th {\n",
       "        text-align: right;\n",
       "    }\n",
       "</style>\n",
       "<table border=\"1\" class=\"dataframe\">\n",
       "  <thead>\n",
       "    <tr style=\"text-align: right;\">\n",
       "      <th></th>\n",
       "      <th>mco</th>\n",
       "      <th>new_cases</th>\n",
       "    </tr>\n",
       "  </thead>\n",
       "  <tbody>\n",
       "    <tr>\n",
       "      <th>0</th>\n",
       "      <td>0</td>\n",
       "      <td>0</td>\n",
       "    </tr>\n",
       "    <tr>\n",
       "      <th>1</th>\n",
       "      <td>0</td>\n",
       "      <td>0</td>\n",
       "    </tr>\n",
       "    <tr>\n",
       "      <th>2</th>\n",
       "      <td>0</td>\n",
       "      <td>0</td>\n",
       "    </tr>\n",
       "    <tr>\n",
       "      <th>3</th>\n",
       "      <td>0</td>\n",
       "      <td>0</td>\n",
       "    </tr>\n",
       "    <tr>\n",
       "      <th>4</th>\n",
       "      <td>0</td>\n",
       "      <td>0</td>\n",
       "    </tr>\n",
       "    <tr>\n",
       "      <th>...</th>\n",
       "      <td>...</td>\n",
       "      <td>...</td>\n",
       "    </tr>\n",
       "    <tr>\n",
       "      <th>358</th>\n",
       "      <td>1</td>\n",
       "      <td>1348</td>\n",
       "    </tr>\n",
       "    <tr>\n",
       "      <th>359</th>\n",
       "      <td>1</td>\n",
       "      <td>1581</td>\n",
       "    </tr>\n",
       "    <tr>\n",
       "      <th>360</th>\n",
       "      <td>1</td>\n",
       "      <td>1247</td>\n",
       "    </tr>\n",
       "    <tr>\n",
       "      <th>361</th>\n",
       "      <td>1</td>\n",
       "      <td>2335</td>\n",
       "    </tr>\n",
       "    <tr>\n",
       "      <th>362</th>\n",
       "      <td>1</td>\n",
       "      <td>1196</td>\n",
       "    </tr>\n",
       "  </tbody>\n",
       "</table>\n",
       "<p>363 rows × 2 columns</p>\n",
       "</div>"
      ],
      "text/plain": [
       "     mco  new_cases\n",
       "0      0          0\n",
       "1      0          0\n",
       "2      0          0\n",
       "3      0          0\n",
       "4      0          0\n",
       "..   ...        ...\n",
       "358    1       1348\n",
       "359    1       1581\n",
       "360    1       1247\n",
       "361    1       2335\n",
       "362    1       1196\n",
       "\n",
       "[363 rows x 2 columns]"
      ]
     },
     "execution_count": 8,
     "metadata": {},
     "output_type": "execute_result"
    }
   ],
   "source": [
    "# Select the mco and new_cases column to test the correlation amongst them\n",
    "df = df[['mco','new_cases']]\n",
    "df"
   ]
  },
  {
   "cell_type": "markdown",
   "metadata": {},
   "source": [
    "### Prediction"
   ]
  },
  {
   "cell_type": "code",
   "execution_count": 9,
   "metadata": {},
   "outputs": [
    {
     "data": {
      "text/plain": [
       "(363, 1)"
      ]
     },
     "execution_count": 9,
     "metadata": {},
     "output_type": "execute_result"
    }
   ],
   "source": [
    "X = df.drop('new_cases', axis=1).values.reshape(-1,1)\n",
    "X.shape"
   ]
  },
  {
   "cell_type": "code",
   "execution_count": 10,
   "metadata": {},
   "outputs": [
    {
     "data": {
      "text/plain": [
       "(363,)"
      ]
     },
     "execution_count": 10,
     "metadata": {},
     "output_type": "execute_result"
    }
   ],
   "source": [
    "y = df['new_cases'].values\n",
    "y.shape"
   ]
  },
  {
   "cell_type": "code",
   "execution_count": 11,
   "metadata": {},
   "outputs": [],
   "source": [
    "# Split 80% of the data to the training set while 20% of the data to test set\n",
    "X_train, X_test, y_train, y_test = train_test_split(X, y, test_size = 0.2, random_state = 123)"
   ]
  },
  {
   "cell_type": "code",
   "execution_count": 12,
   "metadata": {},
   "outputs": [
    {
     "data": {
      "text/plain": [
       "GridSearchCV(cv=5, estimator=SVR(),\n",
       "             param_grid=[{'C': [0.01, 0.1, 1.0, 10.0],\n",
       "                          'epsilon': [0.001, 0.005, 0.01, 0.1, 1],\n",
       "                          'gamma': [0.01, 0.1, 1],\n",
       "                          'kernel': ['linear', 'poly', 'sigmoid', 'rbf'],\n",
       "                          'shrinking': [True, False]}])"
      ]
     },
     "execution_count": 12,
     "metadata": {},
     "output_type": "execute_result"
    }
   ],
   "source": [
    "# Find the most suitable setting\n",
    "\n",
    "PARAMETERS_SVM = [\n",
    "    {\n",
    "        'kernel': ['linear','poly', 'sigmoid', 'rbf'],\n",
    "        'C': [0.01, 0.1, 1.0, 10.0],\n",
    "        'gamma': [0.01, 0.1, 1],\n",
    "        'epsilon': [0.001, 0.005, 0.01, 0.1, 1],\n",
    "        'shrinking':[True,False]\n",
    "    }\n",
    "]\n",
    "\"\"\"SVM parameter options to be tried during grid search\"\"\"\n",
    "\n",
    "CROSS_FOLDS = 5\n",
    "\"\"\"number of folds to use during cross validation\"\"\"\n",
    "\n",
    "from sklearn.model_selection import GridSearchCV\n",
    "search_svm = GridSearchCV(\n",
    "    SVR(),\n",
    "    PARAMETERS_SVM,\n",
    "    cv=CROSS_FOLDS,\n",
    "    refit=True\n",
    ")\n",
    "\n",
    "search_svm.fit(X_train, y_train)"
   ]
  },
  {
   "cell_type": "code",
   "execution_count": 13,
   "metadata": {},
   "outputs": [
    {
     "name": "stdout",
     "output_type": "stream",
     "text": [
      "Top SVM model params: {'C': 10.0, 'epsilon': 0.001, 'gamma': 1, 'kernel': 'rbf', 'shrinking': True}\n",
      "Top SVM model scores: -0.22060111643452113\n"
     ]
    }
   ],
   "source": [
    "model_svm = search_svm.best_estimator_\n",
    "print( 'Top SVM model params: {}'.format( search_svm.best_params_ ) )\n",
    "print( 'Top SVM model scores: {}'.format( search_svm.best_score_ ) )"
   ]
  },
  {
   "cell_type": "code",
   "execution_count": 14,
   "metadata": {},
   "outputs": [
    {
     "data": {
      "text/plain": [
       "array([7.09990005e+01, 7.09990005e+01, 9.99486163e-04, 7.09990005e+01,\n",
       "       9.99486163e-04, 9.99486163e-04, 7.09990005e+01, 7.09990005e+01,\n",
       "       7.09990005e+01, 7.09990005e+01, 7.09990005e+01, 7.09990005e+01,\n",
       "       7.09990005e+01, 9.99486163e-04, 9.99486163e-04, 7.09990005e+01,\n",
       "       9.99486163e-04, 7.09990005e+01, 7.09990005e+01, 9.99486163e-04,\n",
       "       7.09990005e+01, 7.09990005e+01, 7.09990005e+01, 7.09990005e+01,\n",
       "       7.09990005e+01, 7.09990005e+01, 9.99486163e-04, 9.99486163e-04,\n",
       "       7.09990005e+01, 7.09990005e+01, 7.09990005e+01, 7.09990005e+01,\n",
       "       7.09990005e+01, 9.99486163e-04, 9.99486163e-04, 7.09990005e+01,\n",
       "       7.09990005e+01, 7.09990005e+01, 9.99486163e-04, 7.09990005e+01,\n",
       "       9.99486163e-04, 7.09990005e+01, 7.09990005e+01, 7.09990005e+01,\n",
       "       7.09990005e+01, 7.09990005e+01, 7.09990005e+01, 7.09990005e+01,\n",
       "       9.99486163e-04, 7.09990005e+01, 7.09990005e+01, 7.09990005e+01,\n",
       "       7.09990005e+01, 7.09990005e+01, 7.09990005e+01, 7.09990005e+01,\n",
       "       7.09990005e+01, 7.09990005e+01, 7.09990005e+01, 7.09990005e+01,\n",
       "       7.09990005e+01, 7.09990005e+01, 7.09990005e+01, 7.09990005e+01,\n",
       "       7.09990005e+01, 7.09990005e+01, 9.99486163e-04, 7.09990005e+01,\n",
       "       7.09990005e+01, 9.99486163e-04, 9.99486163e-04, 7.09990005e+01,\n",
       "       7.09990005e+01])"
      ]
     },
     "execution_count": 14,
     "metadata": {},
     "output_type": "execute_result"
    }
   ],
   "source": [
    "y_rbf_pred = model_svm.predict(X_test)\n",
    "y_rbf_pred"
   ]
  },
  {
   "cell_type": "code",
   "execution_count": 15,
   "metadata": {},
   "outputs": [
    {
     "data": {
      "text/html": [
       "<div>\n",
       "<style scoped>\n",
       "    .dataframe tbody tr th:only-of-type {\n",
       "        vertical-align: middle;\n",
       "    }\n",
       "\n",
       "    .dataframe tbody tr th {\n",
       "        vertical-align: top;\n",
       "    }\n",
       "\n",
       "    .dataframe thead th {\n",
       "        text-align: right;\n",
       "    }\n",
       "</style>\n",
       "<table border=\"1\" class=\"dataframe\">\n",
       "  <thead>\n",
       "    <tr style=\"text-align: right;\">\n",
       "      <th></th>\n",
       "      <th>Actual</th>\n",
       "      <th>Predicted</th>\n",
       "    </tr>\n",
       "  </thead>\n",
       "  <tbody>\n",
       "    <tr>\n",
       "      <th>0</th>\n",
       "      <td>8</td>\n",
       "      <td>70.999001</td>\n",
       "    </tr>\n",
       "    <tr>\n",
       "      <th>1</th>\n",
       "      <td>57</td>\n",
       "      <td>70.999001</td>\n",
       "    </tr>\n",
       "    <tr>\n",
       "      <th>2</th>\n",
       "      <td>0</td>\n",
       "      <td>0.000999</td>\n",
       "    </tr>\n",
       "    <tr>\n",
       "      <th>3</th>\n",
       "      <td>1041</td>\n",
       "      <td>70.999001</td>\n",
       "    </tr>\n",
       "    <tr>\n",
       "      <th>4</th>\n",
       "      <td>0</td>\n",
       "      <td>0.000999</td>\n",
       "    </tr>\n",
       "    <tr>\n",
       "      <th>...</th>\n",
       "      <td>...</td>\n",
       "      <td>...</td>\n",
       "    </tr>\n",
       "    <tr>\n",
       "      <th>68</th>\n",
       "      <td>277</td>\n",
       "      <td>70.999001</td>\n",
       "    </tr>\n",
       "    <tr>\n",
       "      <th>69</th>\n",
       "      <td>190</td>\n",
       "      <td>0.000999</td>\n",
       "    </tr>\n",
       "    <tr>\n",
       "      <th>70</th>\n",
       "      <td>9</td>\n",
       "      <td>0.000999</td>\n",
       "    </tr>\n",
       "    <tr>\n",
       "      <th>71</th>\n",
       "      <td>170</td>\n",
       "      <td>70.999001</td>\n",
       "    </tr>\n",
       "    <tr>\n",
       "      <th>72</th>\n",
       "      <td>660</td>\n",
       "      <td>70.999001</td>\n",
       "    </tr>\n",
       "  </tbody>\n",
       "</table>\n",
       "<p>73 rows × 2 columns</p>\n",
       "</div>"
      ],
      "text/plain": [
       "    Actual  Predicted\n",
       "0        8  70.999001\n",
       "1       57  70.999001\n",
       "2        0   0.000999\n",
       "3     1041  70.999001\n",
       "4        0   0.000999\n",
       "..     ...        ...\n",
       "68     277  70.999001\n",
       "69     190   0.000999\n",
       "70       9   0.000999\n",
       "71     170  70.999001\n",
       "72     660  70.999001\n",
       "\n",
       "[73 rows x 2 columns]"
      ]
     },
     "execution_count": 15,
     "metadata": {},
     "output_type": "execute_result"
    }
   ],
   "source": [
    "# Compare the actual output values for X_test with the predicted values\n",
    "df_actual_predicted = pd.DataFrame({'Actual': y_test.flatten(), 'Predicted': y_rbf_pred.flatten()})\n",
    "df_actual_predicted"
   ]
  },
  {
   "cell_type": "code",
   "execution_count": 16,
   "metadata": {},
   "outputs": [
    {
     "data": {
      "image/png": "[encoded data removed]",
      "text/plain": [
       "<Figure size 1152x720 with 1 Axes>"
      ]
     },
     "metadata": {
      "needs_background": "light"
     },
     "output_type": "display_data"
    }
   ],
   "source": [
    "df_actual_predicted_25 = df_actual_predicted.head(25)\n",
    "df_actual_predicted_25.plot(kind = 'bar',figsize = (16,10))\n",
    "plt.show()"
   ]
  },
  {
   "cell_type": "code",
   "execution_count": 17,
   "metadata": {},
   "outputs": [
    {
     "data": {
      "image/png": "[encoded data removed]",
      "text/plain": [
       "<Figure size 1080x720 with 1 Axes>"
      ]
     },
     "metadata": {
      "needs_background": "light"
     },
     "output_type": "display_data"
    }
   ],
   "source": [
    "df_rbf_pred = pd.concat([pd.DataFrame(X_test, columns = ['X']), pd.DataFrame(y_rbf_pred, columns=['y'])], axis=1)\n",
    "df_rbf_pred = df_rbf_pred.sort_values(by = 'X')\n",
    "\n",
    "fig, ax = plt.subplots(figsize = (15,10))\n",
    "ax.plot(df_rbf_pred['X'], df_rbf_pred['y'], color='m', lw = 2)\n",
    "ax.scatter(X_train[model_svm.support_], y_train[model_svm.support_], edgecolor='c', s=20)\n",
    "fig.text(0.5, 0.08, 'MCO', ha='center', va='center')\n",
    "fig.text(0.08, 0.5, 'New_Cases', ha='center', va='center', rotation='vertical')\n",
    "plt.show()"
   ]
  },
  {
   "cell_type": "code",
   "execution_count": 18,
   "metadata": {},
   "outputs": [
    {
     "name": "stdout",
     "output_type": "stream",
     "text": [
      "Intercept = [35.5]\n"
     ]
    }
   ],
   "source": [
    "# To check the value of the intercept calculated by the radial basis function (RBF) regression algorithm for our dataset\n",
    "print(\"Intercept = \" + str(model_svm.intercept_))"
   ]
  },
  {
   "cell_type": "code",
   "execution_count": 19,
   "metadata": {},
   "outputs": [
    {
     "name": "stdout",
     "output_type": "stream",
     "text": [
      "MAE: 189.63012329471013\n",
      "MSE: 157298.37796557322\n"
     ]
    }
   ],
   "source": [
    "# Calculate MAE to judge the quality of model \n",
    "print('MAE:',mean_absolute_error(y_test, y_rbf_pred))\n",
    "print('MSE:',mean_squared_error(y_test, y_rbf_pred))"
   ]
  },
  {
   "cell_type": "markdown",
   "metadata": {},
   "source": [
    "### Conclusion"
   ]
  },
  {
   "cell_type": "markdown",
   "metadata": {},
   "source": [
    "Movement Control Order is one of the policies announced by the government to slow down and block the chain of the coronavirus spreading. MCO is 0 means that there is no implement the MCO whereas MCO is 1 means that MCO is undergoing. Based on the graph above, the number of new cases keeps increasing even though the MCO is undergoing. Therefore, the effectiveness of government policy is not enough strong to control the coronavirus spreading."
   ]
  }
 ],
 "metadata": {
  "kernelspec": {
   "display_name": "Python 3",
   "language": "python",
   "name": "python3"
  },
  "language_info": {
   "codemirror_mode": {
    "name": "ipython",
    "version": 3
   },
   "file_extension": ".py",
   "mimetype": "text/x-python",
   "name": "python",
   "nbconvert_exporter": "python",
   "pygments_lexer": "ipython3",
   "version": "3.8.5"
  }
 },
 "nbformat": 4,
 "nbformat_minor": 4
}
