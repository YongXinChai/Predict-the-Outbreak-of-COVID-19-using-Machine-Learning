{
 "cells": [
  {
   "cell_type": "markdown",
   "metadata": {},
   "source": [
    "Name: Chai Yong Xin\n",
    "<br>\n",
    "Matrix No: 17219908\n",
    "<br>\n",
    "Assignment: Step3\n",
    "\n",
    "Title: Predict the Outbreak of COVID-19 using Machine Learning\n",
    "\n",
    "Assignment Field: Regression\n",
    "\n",
    "Data source (URL of dataset website): https://data.world/wnarifin/covid-19-my\n",
    "\n",
    "Objectives:\n",
    "1. To investigate the effectiveness of government policies to the COVID-19.\n",
    "2. To predict the growth and trend of COVID-19.\n",
    "\n",
    "GitHub: https://github.com/YongXinChai/Predict-the-Outbreak-of-COVID-19-using-Machine-Learning"
   ]
  },
  {
   "cell_type": "markdown",
   "metadata": {},
   "source": [
    "### Import Library"
   ]
  },
  {
   "cell_type": "code",
   "execution_count": 201,
   "metadata": {},
   "outputs": [],
   "source": [
    "import pandas as pd # the data structure and analysis library\n",
    "import matplotlib \n",
    "import matplotlib.pyplot as plt  # the graphing library\n"
   ]
  },
  {
   "cell_type": "markdown",
   "metadata": {},
   "source": [
    "### Import Covid-19 Data"
   ]
  },
  {
   "cell_type": "code",
   "execution_count": 202,
   "metadata": {},
   "outputs": [
    {
     "data": {
      "text/html": [
       "<div>\n",
       "<style scoped>\n",
       "    .dataframe tbody tr th:only-of-type {\n",
       "        vertical-align: middle;\n",
       "    }\n",
       "\n",
       "    .dataframe tbody tr th {\n",
       "        vertical-align: top;\n",
       "    }\n",
       "\n",
       "    .dataframe thead th {\n",
       "        text-align: right;\n",
       "    }\n",
       "</style>\n",
       "<table border=\"1\" class=\"dataframe\">\n",
       "  <thead>\n",
       "    <tr style=\"text-align: right;\">\n",
       "      <th></th>\n",
       "      <th>date</th>\n",
       "      <th>state</th>\n",
       "      <th>new_cases</th>\n",
       "      <th>total_cases</th>\n",
       "      <th>new_deaths</th>\n",
       "      <th>total_deaths</th>\n",
       "    </tr>\n",
       "  </thead>\n",
       "  <tbody>\n",
       "    <tr>\n",
       "      <th>0</th>\n",
       "      <td>2020-03-13</td>\n",
       "      <td>PERLIS</td>\n",
       "      <td>NaN</td>\n",
       "      <td>1.0</td>\n",
       "      <td>0</td>\n",
       "      <td>0</td>\n",
       "    </tr>\n",
       "    <tr>\n",
       "      <th>1</th>\n",
       "      <td>2020-03-13</td>\n",
       "      <td>KEDAH</td>\n",
       "      <td>NaN</td>\n",
       "      <td>5.0</td>\n",
       "      <td>0</td>\n",
       "      <td>0</td>\n",
       "    </tr>\n",
       "    <tr>\n",
       "      <th>2</th>\n",
       "      <td>2020-03-13</td>\n",
       "      <td>PULAU PINANG</td>\n",
       "      <td>NaN</td>\n",
       "      <td>7.0</td>\n",
       "      <td>0</td>\n",
       "      <td>0</td>\n",
       "    </tr>\n",
       "    <tr>\n",
       "      <th>3</th>\n",
       "      <td>2020-03-13</td>\n",
       "      <td>PERAK</td>\n",
       "      <td>NaN</td>\n",
       "      <td>2.0</td>\n",
       "      <td>0</td>\n",
       "      <td>0</td>\n",
       "    </tr>\n",
       "    <tr>\n",
       "      <th>4</th>\n",
       "      <td>2020-03-13</td>\n",
       "      <td>SELANGOR</td>\n",
       "      <td>NaN</td>\n",
       "      <td>105.0</td>\n",
       "      <td>0</td>\n",
       "      <td>0</td>\n",
       "    </tr>\n",
       "  </tbody>\n",
       "</table>\n",
       "</div>"
      ],
      "text/plain": [
       "         date         state  new_cases  total_cases  new_deaths  total_deaths\n",
       "0  2020-03-13        PERLIS        NaN          1.0           0             0\n",
       "1  2020-03-13         KEDAH        NaN          5.0           0             0\n",
       "2  2020-03-13  PULAU PINANG        NaN          7.0           0             0\n",
       "3  2020-03-13         PERAK        NaN          2.0           0             0\n",
       "4  2020-03-13      SELANGOR        NaN        105.0           0             0"
      ]
     },
     "execution_count": 202,
     "metadata": {},
     "output_type": "execute_result"
    }
   ],
   "source": [
    "# Import covid-19 Malaysia State Dataset\n",
    "df = pd.read_csv(\"Datasets\\covid-19_my_state.csv\")\n",
    "df.head()"
   ]
  },
  {
   "cell_type": "code",
   "execution_count": 203,
   "metadata": {},
   "outputs": [
    {
     "data": {
      "text/plain": [
       "Index(['date', 'state', 'new_cases', 'total_cases', 'new_deaths',\n",
       "       'total_deaths'],\n",
       "      dtype='object')"
      ]
     },
     "execution_count": 203,
     "metadata": {},
     "output_type": "execute_result"
    }
   ],
   "source": [
    "# Populate all columns\n",
    "df.columns"
   ]
  },
  {
   "cell_type": "markdown",
   "metadata": {},
   "source": [
    "### Data Cleaning"
   ]
  },
  {
   "cell_type": "code",
   "execution_count": 204,
   "metadata": {},
   "outputs": [
    {
     "data": {
      "text/plain": [
       "date             0\n",
       "state            0\n",
       "new_cases       69\n",
       "total_cases     39\n",
       "new_deaths       0\n",
       "total_deaths     0\n",
       "dtype: int64"
      ]
     },
     "execution_count": 204,
     "metadata": {},
     "output_type": "execute_result"
    }
   ],
   "source": [
    "# Check the null value in each column\n",
    "df.isnull().sum()"
   ]
  },
  {
   "cell_type": "code",
   "execution_count": 205,
   "metadata": {},
   "outputs": [
    {
     "data": {
      "text/html": [
       "<div>\n",
       "<style scoped>\n",
       "    .dataframe tbody tr th:only-of-type {\n",
       "        vertical-align: middle;\n",
       "    }\n",
       "\n",
       "    .dataframe tbody tr th {\n",
       "        vertical-align: top;\n",
       "    }\n",
       "\n",
       "    .dataframe thead th {\n",
       "        text-align: right;\n",
       "    }\n",
       "</style>\n",
       "<table border=\"1\" class=\"dataframe\">\n",
       "  <thead>\n",
       "    <tr style=\"text-align: right;\">\n",
       "      <th></th>\n",
       "      <th>date</th>\n",
       "      <th>state</th>\n",
       "      <th>new_cases</th>\n",
       "      <th>total_cases</th>\n",
       "      <th>new_deaths</th>\n",
       "      <th>total_deaths</th>\n",
       "    </tr>\n",
       "  </thead>\n",
       "  <tbody>\n",
       "    <tr>\n",
       "      <th>0</th>\n",
       "      <td>2020-03-13</td>\n",
       "      <td>PERLIS</td>\n",
       "      <td>0</td>\n",
       "      <td>1</td>\n",
       "      <td>0</td>\n",
       "      <td>0</td>\n",
       "    </tr>\n",
       "    <tr>\n",
       "      <th>1</th>\n",
       "      <td>2020-03-13</td>\n",
       "      <td>KEDAH</td>\n",
       "      <td>0</td>\n",
       "      <td>5</td>\n",
       "      <td>0</td>\n",
       "      <td>0</td>\n",
       "    </tr>\n",
       "    <tr>\n",
       "      <th>2</th>\n",
       "      <td>2020-03-13</td>\n",
       "      <td>PULAU PINANG</td>\n",
       "      <td>0</td>\n",
       "      <td>7</td>\n",
       "      <td>0</td>\n",
       "      <td>0</td>\n",
       "    </tr>\n",
       "    <tr>\n",
       "      <th>3</th>\n",
       "      <td>2020-03-13</td>\n",
       "      <td>PERAK</td>\n",
       "      <td>0</td>\n",
       "      <td>2</td>\n",
       "      <td>0</td>\n",
       "      <td>0</td>\n",
       "    </tr>\n",
       "    <tr>\n",
       "      <th>4</th>\n",
       "      <td>2020-03-13</td>\n",
       "      <td>SELANGOR</td>\n",
       "      <td>0</td>\n",
       "      <td>105</td>\n",
       "      <td>0</td>\n",
       "      <td>0</td>\n",
       "    </tr>\n",
       "    <tr>\n",
       "      <th>...</th>\n",
       "      <td>...</td>\n",
       "      <td>...</td>\n",
       "      <td>...</td>\n",
       "      <td>...</td>\n",
       "      <td>...</td>\n",
       "      <td>...</td>\n",
       "    </tr>\n",
       "    <tr>\n",
       "      <th>4635</th>\n",
       "      <td>2020-12-27</td>\n",
       "      <td>SABAH</td>\n",
       "      <td>186</td>\n",
       "      <td>36074</td>\n",
       "      <td>1</td>\n",
       "      <td>259</td>\n",
       "    </tr>\n",
       "    <tr>\n",
       "      <th>4636</th>\n",
       "      <td>2020-12-27</td>\n",
       "      <td>SARAWAK</td>\n",
       "      <td>3</td>\n",
       "      <td>1108</td>\n",
       "      <td>0</td>\n",
       "      <td>19</td>\n",
       "    </tr>\n",
       "    <tr>\n",
       "      <th>4637</th>\n",
       "      <td>2020-12-27</td>\n",
       "      <td>WP KUALA LUMPUR</td>\n",
       "      <td>202</td>\n",
       "      <td>12494</td>\n",
       "      <td>0</td>\n",
       "      <td>29</td>\n",
       "    </tr>\n",
       "    <tr>\n",
       "      <th>4638</th>\n",
       "      <td>2020-12-27</td>\n",
       "      <td>WP PUTRAJAYA</td>\n",
       "      <td>6</td>\n",
       "      <td>265</td>\n",
       "      <td>0</td>\n",
       "      <td>1</td>\n",
       "    </tr>\n",
       "    <tr>\n",
       "      <th>4639</th>\n",
       "      <td>2020-12-27</td>\n",
       "      <td>WP LABUAN</td>\n",
       "      <td>12</td>\n",
       "      <td>1636</td>\n",
       "      <td>0</td>\n",
       "      <td>9</td>\n",
       "    </tr>\n",
       "  </tbody>\n",
       "</table>\n",
       "<p>4640 rows × 6 columns</p>\n",
       "</div>"
      ],
      "text/plain": [
       "            date            state new_cases total_cases  new_deaths  \\\n",
       "0     2020-03-13           PERLIS         0           1           0   \n",
       "1     2020-03-13            KEDAH         0           5           0   \n",
       "2     2020-03-13     PULAU PINANG         0           7           0   \n",
       "3     2020-03-13            PERAK         0           2           0   \n",
       "4     2020-03-13         SELANGOR         0         105           0   \n",
       "...          ...              ...       ...         ...         ...   \n",
       "4635  2020-12-27            SABAH       186       36074           1   \n",
       "4636  2020-12-27          SARAWAK         3        1108           0   \n",
       "4637  2020-12-27  WP KUALA LUMPUR       202       12494           0   \n",
       "4638  2020-12-27     WP PUTRAJAYA         6         265           0   \n",
       "4639  2020-12-27        WP LABUAN        12        1636           0   \n",
       "\n",
       "      total_deaths  \n",
       "0                0  \n",
       "1                0  \n",
       "2                0  \n",
       "3                0  \n",
       "4                0  \n",
       "...            ...  \n",
       "4635           259  \n",
       "4636            19  \n",
       "4637            29  \n",
       "4638             1  \n",
       "4639             9  \n",
       "\n",
       "[4640 rows x 6 columns]"
      ]
     },
     "execution_count": 205,
     "metadata": {},
     "output_type": "execute_result"
    }
   ],
   "source": [
    "# Replace value: NaN to value: 0 for columns:'new_cases' and 'total_cases'\n",
    "df['new_cases'] = df['new_cases'].fillna(\"0\")\n",
    "df['total_cases'] = df['total_cases'].fillna(\"0\")\n",
    "df"
   ]
  },
  {
   "cell_type": "code",
   "execution_count": 206,
   "metadata": {},
   "outputs": [
    {
     "data": {
      "text/plain": [
       "date            0\n",
       "state           0\n",
       "new_cases       0\n",
       "total_cases     0\n",
       "new_deaths      0\n",
       "total_deaths    0\n",
       "dtype: int64"
      ]
     },
     "execution_count": 206,
     "metadata": {},
     "output_type": "execute_result"
    }
   ],
   "source": [
    "# Check the null value in each column again\n",
    "df.isnull().sum()"
   ]
  },
  {
   "cell_type": "code",
   "execution_count": 207,
   "metadata": {},
   "outputs": [
    {
     "data": {
      "text/plain": [
       "date            object\n",
       "state           object\n",
       "new_cases       object\n",
       "total_cases     object\n",
       "new_deaths       int64\n",
       "total_deaths     int64\n",
       "dtype: object"
      ]
     },
     "execution_count": 207,
     "metadata": {},
     "output_type": "execute_result"
    }
   ],
   "source": [
    "df.dtypes"
   ]
  },
  {
   "cell_type": "code",
   "execution_count": 208,
   "metadata": {},
   "outputs": [],
   "source": [
    "# Convert column:'new_cases' and 'total_cases' to int64 format for indexing purpose during plotting\n",
    "df['new_cases'] = df['new_cases'].astype(np.int64)\n",
    "df['total_cases'] = df['total_cases'].astype(np.int64)"
   ]
  },
  {
   "cell_type": "code",
   "execution_count": 210,
   "metadata": {},
   "outputs": [
    {
     "data": {
      "text/html": [
       "<div>\n",
       "<style scoped>\n",
       "    .dataframe tbody tr th:only-of-type {\n",
       "        vertical-align: middle;\n",
       "    }\n",
       "\n",
       "    .dataframe tbody tr th {\n",
       "        vertical-align: top;\n",
       "    }\n",
       "\n",
       "    .dataframe thead th {\n",
       "        text-align: right;\n",
       "    }\n",
       "</style>\n",
       "<table border=\"1\" class=\"dataframe\">\n",
       "  <thead>\n",
       "    <tr style=\"text-align: right;\">\n",
       "      <th></th>\n",
       "      <th>date</th>\n",
       "      <th>state</th>\n",
       "      <th>new_cases</th>\n",
       "      <th>total_cases</th>\n",
       "      <th>new_deaths</th>\n",
       "      <th>total_deaths</th>\n",
       "    </tr>\n",
       "  </thead>\n",
       "  <tbody>\n",
       "    <tr>\n",
       "      <th>0</th>\n",
       "      <td>2020-03-13</td>\n",
       "      <td>PERLIS</td>\n",
       "      <td>0</td>\n",
       "      <td>1</td>\n",
       "      <td>0</td>\n",
       "      <td>0</td>\n",
       "    </tr>\n",
       "    <tr>\n",
       "      <th>1</th>\n",
       "      <td>2020-03-13</td>\n",
       "      <td>KEDAH</td>\n",
       "      <td>0</td>\n",
       "      <td>5</td>\n",
       "      <td>0</td>\n",
       "      <td>0</td>\n",
       "    </tr>\n",
       "    <tr>\n",
       "      <th>2</th>\n",
       "      <td>2020-03-13</td>\n",
       "      <td>PULAU PINANG</td>\n",
       "      <td>0</td>\n",
       "      <td>7</td>\n",
       "      <td>0</td>\n",
       "      <td>0</td>\n",
       "    </tr>\n",
       "    <tr>\n",
       "      <th>3</th>\n",
       "      <td>2020-03-13</td>\n",
       "      <td>PERAK</td>\n",
       "      <td>0</td>\n",
       "      <td>2</td>\n",
       "      <td>0</td>\n",
       "      <td>0</td>\n",
       "    </tr>\n",
       "    <tr>\n",
       "      <th>4</th>\n",
       "      <td>2020-03-13</td>\n",
       "      <td>SELANGOR</td>\n",
       "      <td>0</td>\n",
       "      <td>105</td>\n",
       "      <td>0</td>\n",
       "      <td>0</td>\n",
       "    </tr>\n",
       "    <tr>\n",
       "      <th>...</th>\n",
       "      <td>...</td>\n",
       "      <td>...</td>\n",
       "      <td>...</td>\n",
       "      <td>...</td>\n",
       "      <td>...</td>\n",
       "      <td>...</td>\n",
       "    </tr>\n",
       "    <tr>\n",
       "      <th>4635</th>\n",
       "      <td>2020-12-27</td>\n",
       "      <td>SABAH</td>\n",
       "      <td>186</td>\n",
       "      <td>36074</td>\n",
       "      <td>1</td>\n",
       "      <td>259</td>\n",
       "    </tr>\n",
       "    <tr>\n",
       "      <th>4636</th>\n",
       "      <td>2020-12-27</td>\n",
       "      <td>SARAWAK</td>\n",
       "      <td>3</td>\n",
       "      <td>1108</td>\n",
       "      <td>0</td>\n",
       "      <td>19</td>\n",
       "    </tr>\n",
       "    <tr>\n",
       "      <th>4637</th>\n",
       "      <td>2020-12-27</td>\n",
       "      <td>WP KUALA LUMPUR</td>\n",
       "      <td>202</td>\n",
       "      <td>12494</td>\n",
       "      <td>0</td>\n",
       "      <td>29</td>\n",
       "    </tr>\n",
       "    <tr>\n",
       "      <th>4638</th>\n",
       "      <td>2020-12-27</td>\n",
       "      <td>WP PUTRAJAYA</td>\n",
       "      <td>6</td>\n",
       "      <td>265</td>\n",
       "      <td>0</td>\n",
       "      <td>1</td>\n",
       "    </tr>\n",
       "    <tr>\n",
       "      <th>4639</th>\n",
       "      <td>2020-12-27</td>\n",
       "      <td>WP LABUAN</td>\n",
       "      <td>12</td>\n",
       "      <td>1636</td>\n",
       "      <td>0</td>\n",
       "      <td>9</td>\n",
       "    </tr>\n",
       "  </tbody>\n",
       "</table>\n",
       "<p>4640 rows × 6 columns</p>\n",
       "</div>"
      ],
      "text/plain": [
       "           date            state  new_cases  total_cases  new_deaths  \\\n",
       "0    2020-03-13           PERLIS          0            1           0   \n",
       "1    2020-03-13            KEDAH          0            5           0   \n",
       "2    2020-03-13     PULAU PINANG          0            7           0   \n",
       "3    2020-03-13            PERAK          0            2           0   \n",
       "4    2020-03-13         SELANGOR          0          105           0   \n",
       "...         ...              ...        ...          ...         ...   \n",
       "4635 2020-12-27            SABAH        186        36074           1   \n",
       "4636 2020-12-27          SARAWAK          3         1108           0   \n",
       "4637 2020-12-27  WP KUALA LUMPUR        202        12494           0   \n",
       "4638 2020-12-27     WP PUTRAJAYA          6          265           0   \n",
       "4639 2020-12-27        WP LABUAN         12         1636           0   \n",
       "\n",
       "      total_deaths  \n",
       "0                0  \n",
       "1                0  \n",
       "2                0  \n",
       "3                0  \n",
       "4                0  \n",
       "...            ...  \n",
       "4635           259  \n",
       "4636            19  \n",
       "4637            29  \n",
       "4638             1  \n",
       "4639             9  \n",
       "\n",
       "[4640 rows x 6 columns]"
      ]
     },
     "execution_count": 210,
     "metadata": {},
     "output_type": "execute_result"
    }
   ],
   "source": [
    "# Convert column:'date' to datetime format for indexing purpose during plotting\n",
    "df['date'] = pd.to_datetime(df['date'])\n",
    "df"
   ]
  },
  {
   "cell_type": "code",
   "execution_count": 211,
   "metadata": {},
   "outputs": [
    {
     "data": {
      "text/plain": [
       "date            datetime64[ns]\n",
       "state                   object\n",
       "new_cases                int64\n",
       "total_cases              int64\n",
       "new_deaths               int64\n",
       "total_deaths             int64\n",
       "dtype: object"
      ]
     },
     "execution_count": 211,
     "metadata": {},
     "output_type": "execute_result"
    }
   ],
   "source": [
    "df.dtypes"
   ]
  },
  {
   "cell_type": "code",
   "execution_count": 212,
   "metadata": {},
   "outputs": [
    {
     "name": "stdout",
     "output_type": "stream",
     "text": [
      "['PERLIS' 'KEDAH' 'PULAU PINANG' 'PERAK' 'SELANGOR' 'NEGERI SEMBILAN'\n",
      " 'MELAKA' 'JOHOR' 'PAHANG' 'TERENGGANU' 'KELANTAN' 'SABAH' 'SARAWAK'\n",
      " 'WP KUALA LUMPUR' 'WP PUTRAJAYA' 'WP LABUAN']\n"
     ]
    }
   ],
   "source": [
    "# Print all the state\n",
    "print(df.state.unique())"
   ]
  },
  {
   "cell_type": "code",
   "execution_count": 213,
   "metadata": {},
   "outputs": [
    {
     "name": "stdout",
     "output_type": "stream",
     "text": [
      "['PERLIS' 'KEDAH' 'PULAU PINANG' 'PERAK' 'SELANGOR' 'NEGERI SEMBILAN'\n",
      " 'MELAKA' 'JOHOR' 'PAHANG' 'TERENGGANU' 'KELANTAN' 'SABAH' 'SARAWAK'\n",
      " 'KUALA LUMPUR' 'PUTRAJAYA' 'LABUAN']\n"
     ]
    }
   ],
   "source": [
    "# Update State Naming Convention\n",
    "df = df.replace(to_replace = \"WP KUALA LUMPUR\", value = \"KUALA LUMPUR\")\n",
    "df = df.replace(to_replace = \"WP PUTRAJAYA\", value = \"PUTRAJAYA\")\n",
    "df = df.replace(to_replace = \"WP LABUAN\", value = \"LABUAN\")\n",
    "print(df.state.unique())"
   ]
  },
  {
   "cell_type": "markdown",
   "metadata": {},
   "source": [
    "### Data Visualisation for Covid-19 Malaysia State Dataset\n"
   ]
  },
  {
   "cell_type": "code",
   "execution_count": 218,
   "metadata": {},
   "outputs": [],
   "source": [
    "def plot_all_out(oriData, State):\n",
    "    \n",
    "    if(len(State.strip()) == 0):\n",
    "        return('State cannot be empty')\n",
    "    \n",
    "    if(len(oriData[oriData['state'] == State]) == 0):\n",
    "        return('State:' + State + ' is not available')\n",
    "              \n",
    "    data = oriData[oriData['state'] == State]\n",
    "    \n",
    "    # Create figure and plot space\n",
    "    fig, ax = plt.subplots(2, 2,figsize=(15, 12))\n",
    "    \n",
    "    state = data['state'].iloc[0]\n",
    "    state = state.strip()\n",
    "    location = ''\n",
    "\n",
    "    if(len(state) > 0):\n",
    "        location = location + state\n",
    "        \n",
    "    fig.suptitle(location, fontsize=28)\n",
    "    \n",
    "    operandFormatter= lambda i: (\"+\" if i > 0 else \"\") + str(i)\n",
    "        \n",
    "    # Add x-axis and y-axis\n",
    "    ax[0,0].plot(data['date'],data['new_cases'])\n",
    "    ax[0,0].fill_between(data['date'], data['new_cases'], color=\"skyblue\", alpha=0.2)\n",
    "    ax[0,0].set(xlabel='Date',ylabel='Cases',title='new_cases')\n",
    "    \n",
    "    ax[0,1].plot(data['date'],data['total_cases'])\n",
    "    ax[0,1].fill_between(data['date'], data['total_cases'], color=\"skyblue\", alpha=0.2)\n",
    "    ax[0,1].set(xlabel='Date',ylabel='Cases',title='total_cases')\n",
    "    \n",
    "    ax[1,0].plot(data['date'],data['new_deaths'])\n",
    "    ax[1,0].fill_between(data['date'], data['new_deaths'], color=\"skyblue\", alpha=0.2)\n",
    "    ax[1,0].set(xlabel='Date',ylabel='Cases',title='new_deaths')\n",
    "    \n",
    "    ax[1,1].plot(data['date'],data['total_deaths'])\n",
    "    ax[1,1].fill_between(data['date'], data['total_deaths'], color=\"skyblue\", alpha=0.2)\n",
    "    ax[1,1].set(xlabel='Date',ylabel='Cases',title='total_deaths')\n",
    "               \n",
    "    fig.autofmt_xdate()\n",
    "    plt.show()"
   ]
  },
  {
   "cell_type": "code",
   "execution_count": 219,
   "metadata": {},
   "outputs": [
    {
     "data": {
      "image/png": "[encoded data removed]",
      "text/plain": [
       "<Figure size 1080x864 with 4 Axes>"
      ]
     },
     "metadata": {
      "needs_background": "light"
     },
     "output_type": "display_data"
    }
   ],
   "source": [
    "plot_all_out(oriData = df, State = 'SELANGOR')"
   ]
  },
  {
   "cell_type": "code",
   "execution_count": null,
   "metadata": {},
   "outputs": [],
   "source": []
  }
 ],
 "metadata": {
  "kernelspec": {
   "display_name": "Python 3",
   "language": "python",
   "name": "python3"
  },
  "language_info": {
   "codemirror_mode": {
    "name": "ipython",
    "version": 3
   },
   "file_extension": ".py",
   "mimetype": "text/x-python",
   "name": "python",
   "nbconvert_exporter": "python",
   "pygments_lexer": "ipython3",
   "version": "3.8.5"
  }
 },
 "nbformat": 4,
 "nbformat_minor": 4
}
